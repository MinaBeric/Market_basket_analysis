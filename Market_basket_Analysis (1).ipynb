{
  "cells": [
    {
      "cell_type": "markdown",
      "source": [
        "<a href=\"https://colab.research.google.com/github/MinaBeric/Market_Basket_Analysis/blob/main/Market_basket_Analysis.ipynb\" target=\"_parent\"><img src=\"https://colab.research.google.com/assets/colab-badge.svg\" alt=\"Open In Colab\"/></a>"
      ],
      "metadata": {
        "id": "OLUdcJyelgTo"
      }
    },
    {
      "cell_type": "markdown",
      "metadata": {
        "id": "-COHkkrPRmDv"
      },
      "source": [
        "# **Spark Context creation**"
      ]
    },
    {
      "cell_type": "code",
      "execution_count": 1,
      "metadata": {
        "id": "01AGqFC9ReMT",
        "colab": {
          "base_uri": "https://localhost:8080/",
          "height": 219
        },
        "outputId": "f1a8d777-fefa-478e-b696-a1865fd6e230"
      },
      "outputs": [
        {
          "output_type": "execute_result",
          "data": {
            "text/plain": [
              "<pyspark.sql.session.SparkSession at 0x7d61408764a0>"
            ],
            "text/html": [
              "\n",
              "            <div>\n",
              "                <p><b>SparkSession - in-memory</b></p>\n",
              "                \n",
              "        <div>\n",
              "            <p><b>SparkContext</b></p>\n",
              "\n",
              "            <p><a href=\"http://9204db0be374:4040\">Spark UI</a></p>\n",
              "\n",
              "            <dl>\n",
              "              <dt>Version</dt>\n",
              "                <dd><code>v3.1.1</code></dd>\n",
              "              <dt>Master</dt>\n",
              "                <dd><code>local[*]</code></dd>\n",
              "              <dt>AppName</dt>\n",
              "                <dd><code>pyspark-shell</code></dd>\n",
              "            </dl>\n",
              "        </div>\n",
              "        \n",
              "            </div>\n",
              "        "
            ]
          },
          "metadata": {},
          "execution_count": 1
        }
      ],
      "source": [
        "!apt-get install openjdk-8-jdk-headless -qq > /dev/null\n",
        "!wget -q http://archive.apache.org/dist/spark/spark-3.1.1/spark-3.1.1-bin-hadoop3.2.tgz\n",
        "!tar xf spark-3.1.1-bin-hadoop3.2.tgz\n",
        "!pip install -q findspark\n",
        "\n",
        "import os\n",
        "os.environ[\"JAVA_HOME\"] = \"/usr/lib/jvm/java-8-openjdk-amd64\"\n",
        "os.environ[\"SPARK_HOME\"] = \"/content/spark-3.1.1-bin-hadoop3.2\"\n",
        "\n",
        "import findspark\n",
        "findspark.init()\n",
        "from pyspark.sql import SparkSession\n",
        "spark = SparkSession.builder.master(\"local[*]\").getOrCreate()\n",
        "spark.conf.set(\"spark.sql.repl.eagerEval.enabled\", True)\n",
        "spark"
      ]
    },
    {
      "cell_type": "code",
      "execution_count": 2,
      "metadata": {
        "id": "CGPPL7iqW4-m"
      },
      "outputs": [],
      "source": [
        "import pyspark\n",
        "sc=spark.sparkContext\n",
        "from pyspark.sql import functions as F"
      ]
    },
    {
      "cell_type": "markdown",
      "metadata": {
        "id": "oCCN1gbyRk-q"
      },
      "source": [
        "# **Import Dataset from Kaggle**"
      ]
    },
    {
      "cell_type": "code",
      "execution_count": 3,
      "metadata": {
        "id": "1q1f_Va8XD_V",
        "colab": {
          "base_uri": "https://localhost:8080/"
        },
        "outputId": "757e01e9-23d0-4c62-f61a-023030922476"
      },
      "outputs": [
        {
          "output_type": "stream",
          "name": "stdout",
          "text": [
            "Dataset URL: https://www.kaggle.com/datasets/asaniczka/1-3m-linkedin-jobs-and-skills-2024\n",
            "License(s): ODC Attribution License (ODC-By)\n",
            "Downloading 1-3m-linkedin-jobs-and-skills-2024.zip to /content\n",
            "100% 1.88G/1.88G [01:09<00:00, 34.1MB/s]\n",
            "100% 1.88G/1.88G [01:09<00:00, 29.1MB/s]\n"
          ]
        }
      ],
      "source": [
        "os.environ['KAGGLE_USERNAME'] = \"xxxxxx\"\n",
        "os.environ['KAGGLE_KEY'] = \"xxxxxx\"\n",
        "!kaggle datasets download -d \"asaniczka/1-3m-linkedin-jobs-and-skills-2024\""
      ]
    },
    {
      "cell_type": "code",
      "execution_count": 4,
      "metadata": {
        "id": "XRCifOH1XvI_",
        "colab": {
          "base_uri": "https://localhost:8080/"
        },
        "outputId": "f9baecdd-2b1e-44bb-ac44-d540bf050b2d"
      },
      "outputs": [
        {
          "output_type": "stream",
          "name": "stdout",
          "text": [
            "Archive:  /content/1-3m-linkedin-jobs-and-skills-2024.zip\n",
            "  inflating: data/job_skills.csv     \n",
            "  inflating: data/job_summary.csv    \n",
            "  inflating: data/linkedin_job_postings.csv  \n"
          ]
        }
      ],
      "source": [
        "!unzip /content/1-3m-linkedin-jobs-and-skills-2024.zip -d data"
      ]
    },
    {
      "cell_type": "code",
      "execution_count": 5,
      "metadata": {
        "id": "6LSvgQtQbKAW"
      },
      "outputs": [],
      "source": [
        "!rm /content/data/linkedin_job_postings.csv\n",
        "!rm /content/data/job_summary.csv\n",
        "!rm /content/1-3m-linkedin-jobs-and-skills-2024.zip\n"
      ]
    },
    {
      "cell_type": "code",
      "execution_count": 6,
      "metadata": {
        "id": "2tj86TcCkQtq",
        "colab": {
          "base_uri": "https://localhost:8080/"
        },
        "outputId": "93805d06-5b73-48b2-c17a-816c0fe75936"
      },
      "outputs": [
        {
          "output_type": "stream",
          "name": "stdout",
          "text": [
            "+--------------------+--------------------+\n",
            "|            job_link|          job_skills|\n",
            "+--------------------+--------------------+\n",
            "|https://www.linke...|Building Custodia...|\n",
            "|https://www.linke...|Customer service,...|\n",
            "|https://www.linke...|Applied Behavior ...|\n",
            "|https://www.linke...|Electrical Engine...|\n",
            "|https://www.linke...|Electrical Assemb...|\n",
            "|https://www.linke...|Access Control, V...|\n",
            "|https://www.linke...|Consultation, Sup...|\n",
            "|https://www.linke...|Veterinary Recept...|\n",
            "|https://www.linke...|Optical Inspectio...|\n",
            "|https://www.linke...|HVAC, troubleshoo...|\n",
            "|https://www.linke...|Host/Server Assis...|\n",
            "|https://www.linke...|Apartment mainten...|\n",
            "|https://www.linke...|Fiber Optic Cable...|\n",
            "|https://www.linke...|CT Technologist, ...|\n",
            "|https://ca.linked...|SAP, DRMIS, Data ...|\n",
            "|https://www.linke...|Debt and equity o...|\n",
            "|https://ca.linked...|Biomedical Engine...|\n",
            "|https://www.linke...|Laboratory Techni...|\n",
            "|https://www.linke...|Program Managemen...|\n",
            "|https://www.linke...|Hiring, Training,...|\n",
            "+--------------------+--------------------+\n",
            "only showing top 20 rows\n",
            "\n"
          ]
        }
      ],
      "source": [
        "df = spark.read.options(header=True).csv('/content/data/job_skills.csv')\n",
        "df.show()"
      ]
    },
    {
      "cell_type": "markdown",
      "metadata": {
        "id": "fBrwHgPukgtn"
      },
      "source": [
        "# **Data pre processing and EDA**"
      ]
    },
    {
      "cell_type": "code",
      "execution_count": 7,
      "metadata": {
        "id": "nmxjQq4NkVcm",
        "colab": {
          "base_uri": "https://localhost:8080/",
          "height": 156
        },
        "outputId": "d8e54d14-49af-4995-8847-0b9661754baa"
      },
      "outputs": [
        {
          "output_type": "execute_result",
          "data": {
            "text/plain": [
              "+-------+--------------------+-------------------------------+\n",
              "|summary|            job_link|                     job_skills|\n",
              "+-------+--------------------+-------------------------------+\n",
              "|  count|             1296381|                        1294374|\n",
              "|   mean|                null|                           null|\n",
              "| stddev|                null|                           null|\n",
              "|    min|https://ae.linked...|           \"* Maintenance, *...|\n",
              "|    max|https://za.linked...|志愿服务, 沟通, 陪伴, 临终服...|\n",
              "+-------+--------------------+-------------------------------+"
            ],
            "text/html": [
              "<table border='1'>\n",
              "<tr><th>summary</th><th>job_link</th><th>job_skills</th></tr>\n",
              "<tr><td>count</td><td>1296381</td><td>1294374</td></tr>\n",
              "<tr><td>mean</td><td>null</td><td>null</td></tr>\n",
              "<tr><td>stddev</td><td>null</td><td>null</td></tr>\n",
              "<tr><td>min</td><td>https://ae.linked...</td><td>&quot;* Maintenance, *...</td></tr>\n",
              "<tr><td>max</td><td>https://za.linked...</td><td>志愿服务, 沟通, 陪伴, 临终服...</td></tr>\n",
              "</table>\n"
            ]
          },
          "metadata": {},
          "execution_count": 7
        }
      ],
      "source": [
        "df.describe()"
      ]
    },
    {
      "cell_type": "code",
      "execution_count": 8,
      "metadata": {
        "id": "zmO_t9DWiWLj"
      },
      "outputs": [],
      "source": [
        "df=df.dropna()"
      ]
    },
    {
      "cell_type": "code",
      "source": [
        "df.select(\"job_skills\").show(10)"
      ],
      "metadata": {
        "colab": {
          "base_uri": "https://localhost:8080/"
        },
        "id": "p4eLrMtcOqf4",
        "outputId": "a0f04b82-c94e-406d-93d1-79994cae1c07"
      },
      "execution_count": 9,
      "outputs": [
        {
          "output_type": "stream",
          "name": "stdout",
          "text": [
            "+--------------------+\n",
            "|          job_skills|\n",
            "+--------------------+\n",
            "|Building Custodia...|\n",
            "|Customer service,...|\n",
            "|Applied Behavior ...|\n",
            "|Electrical Engine...|\n",
            "|Electrical Assemb...|\n",
            "|Access Control, V...|\n",
            "|Consultation, Sup...|\n",
            "|Veterinary Recept...|\n",
            "|Optical Inspectio...|\n",
            "|HVAC, troubleshoo...|\n",
            "+--------------------+\n",
            "only showing top 10 rows\n",
            "\n"
          ]
        }
      ]
    },
    {
      "cell_type": "code",
      "source": [
        "df_skillcounts = df.withColumn(\"job_skill\", F.explode(F.split(F.col(\"job_skills\"), \", \")))\n",
        "df_skillcounts = df_skillcounts.groupBy(\"job_skill\").count()\n",
        "top_skills = df_skillcounts.orderBy(F.desc(\"count\")).limit(10)\n",
        "top_skills.show()"
      ],
      "metadata": {
        "colab": {
          "base_uri": "https://localhost:8080/"
        },
        "id": "qKCIJIn-Pjt9",
        "outputId": "ef489051-4d73-4d7c-94af-42e7d04bedf0"
      },
      "execution_count": 10,
      "outputs": [
        {
          "output_type": "stream",
          "name": "stdout",
          "text": [
            "+--------------------+------+\n",
            "|           job_skill| count|\n",
            "+--------------------+------+\n",
            "|       Communication|368202|\n",
            "|            Teamwork|226205|\n",
            "|          Leadership|184292|\n",
            "|    Customer service|166158|\n",
            "|Communication skills|116169|\n",
            "|    Customer Service|110400|\n",
            "|     Problem Solving|102020|\n",
            "|               Sales| 92718|\n",
            "|      Problemsolving| 92489|\n",
            "|             Nursing| 87419|\n",
            "+--------------------+------+\n",
            "\n"
          ]
        }
      ]
    },
    {
      "cell_type": "markdown",
      "metadata": {
        "id": "Ab4O5Ood7N01"
      },
      "source": [
        "**Sampling**"
      ]
    },
    {
      "cell_type": "code",
      "execution_count": 11,
      "metadata": {
        "id": "nsvg79XYnTXk"
      },
      "outputs": [],
      "source": [
        "sample_fraction=0.01\n",
        "df=df.sample(withReplacement=False, fraction=sample_fraction, seed=14)\n"
      ]
    },
    {
      "cell_type": "code",
      "source": [
        "df.count()"
      ],
      "metadata": {
        "id": "TEpdyvXfO90l",
        "colab": {
          "base_uri": "https://localhost:8080/"
        },
        "outputId": "f35aa6de-f7b2-4228-cdcd-56a08fe27b5f"
      },
      "execution_count": 12,
      "outputs": [
        {
          "output_type": "execute_result",
          "data": {
            "text/plain": [
              "12977"
            ]
          },
          "metadata": {},
          "execution_count": 12
        }
      ]
    },
    {
      "cell_type": "markdown",
      "metadata": {
        "id": "UEeikZG_7TBm"
      },
      "source": [
        "# RDD Baskets creation"
      ]
    },
    {
      "cell_type": "code",
      "execution_count": 13,
      "metadata": {
        "id": "aIEy6LU39sgd"
      },
      "outputs": [],
      "source": [
        "rdd_r0=df.select('job_skills').rdd.flatMap(lambda row: row)"
      ]
    },
    {
      "cell_type": "code",
      "source": [
        "rdd_r0.getNumPartitions()"
      ],
      "metadata": {
        "colab": {
          "base_uri": "https://localhost:8080/"
        },
        "id": "Xa7YVgd-o8s9",
        "outputId": "53ccb2a8-332b-4739-8dd0-ff60e49c0e87"
      },
      "execution_count": 14,
      "outputs": [
        {
          "output_type": "execute_result",
          "data": {
            "text/plain": [
              "6"
            ]
          },
          "metadata": {},
          "execution_count": 14
        }
      ]
    },
    {
      "cell_type": "code",
      "source": [
        "rdd_r0.first()"
      ],
      "metadata": {
        "colab": {
          "base_uri": "https://localhost:8080/",
          "height": 140
        },
        "id": "ApsvuSFHpHKX",
        "outputId": "466c27cf-4041-45f2-ad29-2c0d21f8646b"
      },
      "execution_count": 15,
      "outputs": [
        {
          "output_type": "execute_result",
          "data": {
            "text/plain": [
              "'Nursing, Physician Assistant, Oncology, Hematology, Advanced Practice Registered Nurse, Advanced Practice Provider, Prescribing, Documentation, Referrals, Consultation, Patient Advocacy, Continuing Education, Research, Quality Improvement, Public Speaking, Teaching, Preceptorship, BLS Certification, CPR Certification, Cardiology, Pulmonary Medicine, Radiation Oncology, Hematology Oncology, Medical Oncology, Patient Care, Physical Examination, Diagnosis, Treatment Planning, Medication Management, Laboratory Testing, Imaging, Patient Education, Communication, Teamwork, Problem Solving, Critical Thinking, Decision Making, Professionalism, Ethics, Cultural Competence'"
            ],
            "application/vnd.google.colaboratory.intrinsic+json": {
              "type": "string"
            }
          },
          "metadata": {},
          "execution_count": 15
        }
      ]
    },
    {
      "cell_type": "code",
      "execution_count": 16,
      "metadata": {
        "id": "wxaM2YZn8bjE",
        "colab": {
          "base_uri": "https://localhost:8080/"
        },
        "outputId": "0b0c567b-7fd3-4d5a-cc64-5fb5f444e2a6"
      },
      "outputs": [
        {
          "output_type": "execute_result",
          "data": {
            "text/plain": [
              "['Nursing',\n",
              " ' Physician Assistant',\n",
              " ' Oncology',\n",
              " ' Hematology',\n",
              " ' Advanced Practice Registered Nurse',\n",
              " ' Advanced Practice Provider',\n",
              " ' Prescribing',\n",
              " ' Documentation',\n",
              " ' Referrals',\n",
              " ' Consultation',\n",
              " ' Patient Advocacy',\n",
              " ' Continuing Education',\n",
              " ' Research',\n",
              " ' Quality Improvement',\n",
              " ' Public Speaking',\n",
              " ' Teaching',\n",
              " ' Preceptorship',\n",
              " ' BLS Certification',\n",
              " ' CPR Certification',\n",
              " ' Cardiology',\n",
              " ' Pulmonary Medicine',\n",
              " ' Radiation Oncology',\n",
              " ' Hematology Oncology',\n",
              " ' Medical Oncology',\n",
              " ' Patient Care',\n",
              " ' Physical Examination',\n",
              " ' Diagnosis',\n",
              " ' Treatment Planning',\n",
              " ' Medication Management',\n",
              " ' Laboratory Testing',\n",
              " ' Imaging',\n",
              " ' Patient Education',\n",
              " ' Communication',\n",
              " ' Teamwork',\n",
              " ' Problem Solving',\n",
              " ' Critical Thinking',\n",
              " ' Decision Making',\n",
              " ' Professionalism',\n",
              " ' Ethics',\n",
              " ' Cultural Competence']"
            ]
          },
          "metadata": {},
          "execution_count": 16
        }
      ],
      "source": [
        "rdd_r1 = rdd_r0.map(lambda skills: skills.split(\",\"))\n",
        "rdd_r1.first()\n"
      ]
    },
    {
      "cell_type": "code",
      "source": [
        "rdd_r1.count()"
      ],
      "metadata": {
        "colab": {
          "base_uri": "https://localhost:8080/"
        },
        "id": "t97GEp2wm4B9",
        "outputId": "20393447-3080-4140-9e21-c81d25390d68"
      },
      "execution_count": 17,
      "outputs": [
        {
          "output_type": "execute_result",
          "data": {
            "text/plain": [
              "12977"
            ]
          },
          "metadata": {},
          "execution_count": 17
        }
      ]
    },
    {
      "cell_type": "markdown",
      "metadata": {
        "id": "LQwGVa4eAEGh"
      },
      "source": [
        "# Creation of the Hash table"
      ]
    },
    {
      "cell_type": "code",
      "execution_count": 18,
      "metadata": {
        "id": "RN0Y6dXY89Pd",
        "colab": {
          "base_uri": "https://localhost:8080/",
          "height": 36
        },
        "outputId": "c75dbd18-ac77-40ea-dc29-4f494879f7aa"
      },
      "outputs": [
        {
          "output_type": "execute_result",
          "data": {
            "text/plain": [
              "' Advanced Practice Registered Nurse'"
            ],
            "application/vnd.google.colaboratory.intrinsic+json": {
              "type": "string"
            }
          },
          "metadata": {},
          "execution_count": 18
        }
      ],
      "source": [
        "rdd_r2=rdd_r1.flatMap(lambda skills:skills).distinct()\n",
        "rdd_r2.first()"
      ]
    },
    {
      "cell_type": "code",
      "execution_count": 19,
      "metadata": {
        "id": "9tahX8u-9V7Y"
      },
      "outputs": [],
      "source": [
        "skill_to_index = rdd_r2.zipWithIndex().collectAsMap()"
      ]
    },
    {
      "cell_type": "code",
      "execution_count": 20,
      "metadata": {
        "id": "AcjdnA0NGAqa",
        "colab": {
          "base_uri": "https://localhost:8080/"
        },
        "outputId": "7e28a428-05db-4515-b956-5781a7bd244e"
      },
      "outputs": [
        {
          "output_type": "stream",
          "name": "stdout",
          "text": [
            "Skill:  Advanced Practice Registered Nurse, Index: 0\n",
            "Skill:  Preceptorship, Index: 1\n",
            "Skill:  Medication Management, Index: 2\n",
            "Skill:  Patient Education, Index: 3\n",
            "Skill:  Interpersonal skills, Index: 4\n",
            "Skill:  Communication skills, Index: 5\n",
            "Skill:  Ability to work independently, Index: 6\n",
            "Skill:  Upbeat and engaging personality, Index: 7\n",
            "Skill:  Visual inspection, Index: 8\n",
            "Skill:  High school diploma or equivalent, Index: 9\n"
          ]
        }
      ],
      "source": [
        "for key, value in list(skill_to_index.items())[:10]:\n",
        "    print(f'Skill: {key}, Index: {value}')"
      ]
    },
    {
      "cell_type": "code",
      "execution_count": 21,
      "metadata": {
        "id": "b1deNF9TEgyP"
      },
      "outputs": [],
      "source": [
        "rdd_r3 = rdd_r1.map(lambda skills: {skill_to_index[skill] for skill in skills if skill in skill_to_index})"
      ]
    },
    {
      "cell_type": "code",
      "execution_count": 22,
      "metadata": {
        "id": "Dj8Xf2xrsuFC",
        "colab": {
          "base_uri": "https://localhost:8080/"
        },
        "outputId": "c487aa7b-180e-4742-d52b-4a2d278f8f35"
      },
      "outputs": [
        {
          "output_type": "execute_result",
          "data": {
            "text/plain": [
              "{0,\n",
              " 1,\n",
              " 2,\n",
              " 3,\n",
              " 17324,\n",
              " 17325,\n",
              " 17326,\n",
              " 17327,\n",
              " 17328,\n",
              " 17329,\n",
              " 17330,\n",
              " 17331,\n",
              " 34630,\n",
              " 34631,\n",
              " 34632,\n",
              " 34633,\n",
              " 34634,\n",
              " 51907,\n",
              " 51908,\n",
              " 51909,\n",
              " 51910,\n",
              " 51911,\n",
              " 69283,\n",
              " 69284,\n",
              " 69285,\n",
              " 69286,\n",
              " 69287,\n",
              " 69288,\n",
              " 69289,\n",
              " 86474,\n",
              " 86475,\n",
              " 86476,\n",
              " 86477,\n",
              " 86478,\n",
              " 86479,\n",
              " 86480,\n",
              " 86481,\n",
              " 86482,\n",
              " 86483,\n",
              " 86484}"
            ]
          },
          "metadata": {},
          "execution_count": 22
        }
      ],
      "source": [
        "rdd_r3.first()"
      ]
    },
    {
      "cell_type": "markdown",
      "source": [
        "#**A PRIORI ALGORITHM**"
      ],
      "metadata": {
        "id": "SUEKO32_DAOl"
      }
    },
    {
      "cell_type": "markdown",
      "source": [
        "**Support threshold**"
      ],
      "metadata": {
        "id": "xWQeqcUOiEhF"
      }
    },
    {
      "cell_type": "code",
      "source": [
        "#s = round(rdd_r1.count() * 0.01)"
      ],
      "metadata": {
        "id": "bOV5MwVvnUke"
      },
      "execution_count": 23,
      "outputs": []
    },
    {
      "cell_type": "code",
      "source": [
        "#s"
      ],
      "metadata": {
        "id": "1hlufGrInYon"
      },
      "execution_count": 24,
      "outputs": []
    },
    {
      "cell_type": "markdown",
      "source": [
        "By setting the support threshold with the usual 1% of the baskets, the time needed for the algorithm to produce results is too long (>20 minutes). For this reason s is set to be 1.5%"
      ],
      "metadata": {
        "id": "JPjY2Ecuqskc"
      }
    },
    {
      "cell_type": "code",
      "execution_count": 25,
      "metadata": {
        "id": "3x4PbopCPj0b",
        "colab": {
          "base_uri": "https://localhost:8080/"
        },
        "outputId": "aacc219f-0372-4859-92ae-d93dc5684a04"
      },
      "outputs": [
        {
          "output_type": "execute_result",
          "data": {
            "text/plain": [
              "195"
            ]
          },
          "metadata": {},
          "execution_count": 25
        }
      ],
      "source": [
        "s=round((rdd_r1.count())*0.015)\n",
        "s"
      ]
    },
    {
      "cell_type": "code",
      "source": [
        "support_percentage = (s / rdd_r1.count()) * 100"
      ],
      "metadata": {
        "id": "MO3yJxD1jrxT"
      },
      "execution_count": 26,
      "outputs": []
    },
    {
      "cell_type": "code",
      "source": [
        "support_percentage"
      ],
      "metadata": {
        "colab": {
          "base_uri": "https://localhost:8080/"
        },
        "id": "CpnY6XSGnmU8",
        "outputId": "0db2105f-f64a-4975-d29f-ac7abc152fd7"
      },
      "execution_count": 27,
      "outputs": [
        {
          "output_type": "execute_result",
          "data": {
            "text/plain": [
              "1.502658549741851"
            ]
          },
          "metadata": {},
          "execution_count": 27
        }
      ]
    },
    {
      "cell_type": "code",
      "execution_count": 28,
      "metadata": {
        "id": "nyDWl-rxSMp4"
      },
      "outputs": [],
      "source": [
        "from itertools import combinations\n",
        "import matplotlib.pyplot as plt"
      ]
    },
    {
      "cell_type": "code",
      "execution_count": 29,
      "metadata": {
        "id": "iTSv7W0XDKhl"
      },
      "outputs": [],
      "source": [
        "def apriori(baskets_collection, threshold_s, hash_table):\n",
        "    itemset_counts = {}\n",
        "\n",
        "    # Step 1: Find frequent singletons\n",
        "    first_pass = (baskets_collection.flatMap(lambda basket: [(skill, 1) for skill in basket])  # Create (item, 1) pairs\n",
        "                  .reduceByKey(lambda a, b: a + b)  # Sum counts for each item\n",
        "                  .filter(lambda item_count: item_count[1] > threshold_s)  # Keep frequent items\n",
        "    )\n",
        "\n",
        "    first_count = first_pass.count()\n",
        "    max_singleton = first_pass.max(lambda x: x[1])  # Singleton with the highest count\n",
        "    most_frequent_skill = list(hash_table.keys())[list(hash_table.values()).index(max_singleton[0])]\n",
        "\n",
        "    # Display frequent singletons\n",
        "    print(\"Number of Frequent Singletons:\", first_count)\n",
        "    print(\"Most Frequent Singleton:\", most_frequent_skill)\n",
        "\n",
        "    frequents = set(first_pass.map(lambda x: (x[0],)).collect())\n",
        "\n",
        "    # Store the total count of frequent singletons in itemset_counts\n",
        "    itemset_counts[\"Size 1\"] = first_count\n",
        "\n",
        "    # Step 2: Find frequent itemsets of size 2, 3, and so on\n",
        "    k = 2  # Start with pairs\n",
        "\n",
        "    while True:\n",
        "        # Generate candidate itemsets of size k\n",
        "        candidate_itemsets = (baskets_collection.flatMap(lambda basket: [(elem, 1) for elem in combinations(sorted(basket), k)\n",
        "                                       if all(item in frequents for item in combinations(elem, k-1))])  # Only take candidates with frequent subsets\n",
        "                              .reduceByKey(lambda x, y: x + y)  # Count occurrences of each candidate\n",
        "                              .filter(lambda x: x[1] > threshold_s)  # Keep only frequent itemsets\n",
        "        )\n",
        "        candidates_counts = candidate_itemsets.count()\n",
        "\n",
        "        if candidates_counts != 0:\n",
        "            print(f\"Number of frequent itemsets of size {k} are\", candidates_counts)\n",
        "\n",
        "            max_itemsets = candidate_itemsets.max(lambda x: x[1])\n",
        "            max_items = [list(hash_table.keys())[list(hash_table.values()).index(skill)] for skill in max_itemsets[0]]\n",
        "            print(f\"The Most frequent itemset of size {k} is\", max_items)\n",
        "\n",
        "            # Store the total count of frequent itemsets of size k in itemset_counts\n",
        "            itemset_counts[f\"Size {k}\"] = candidates_counts\n",
        "\n",
        "            # Update frequents for next iteration\n",
        "            frequents = set(candidate_itemsets.map(lambda x: x[0]).collect())\n",
        "            k += 1\n",
        "        else:\n",
        "            print(f\"There are no more frequent itemsets of size {k}\")\n",
        "            break\n",
        "    sizes=list(itemset_counts.keys())\n",
        "    counts = list(itemset_counts.values())\n",
        "\n",
        "    plt.figure(figsize=(10, 6))\n",
        "    plt.bar(sizes, counts, color='pink')\n",
        "    plt.xlabel(\"Itemset Size\")\n",
        "    plt.ylabel(\"Count of Frequent Itemsets\")\n",
        "    plt.title(\"Count of Frequent Itemsets by Size\")\n",
        "    plt.show()\n",
        "\n",
        "\n",
        "\n"
      ]
    },
    {
      "cell_type": "code",
      "execution_count": 30,
      "metadata": {
        "colab": {
          "base_uri": "https://localhost:8080/",
          "height": 637
        },
        "id": "9Gu33UaZjOAQ",
        "outputId": "e89f9dcb-bee0-4f98-9e33-299b5ca76938"
      },
      "outputs": [
        {
          "output_type": "stream",
          "name": "stdout",
          "text": [
            "Number of Frequent Singletons: 96\n",
            "Most Frequent Singleton:  Communication\n",
            "Number of frequent itemsets of size 2 are 64\n",
            "The Most frequent itemset of size 2 is [' Teamwork', ' Communication']\n",
            "Number of frequent itemsets of size 3 are 9\n",
            "The Most frequent itemset of size 3 is [' Teamwork', ' Leadership', ' Communication']\n",
            "There are no more frequent itemsets of size 4\n"
          ]
        },
        {
          "output_type": "display_data",
          "data": {
            "text/plain": [
              "<Figure size 1000x600 with 1 Axes>"
            ],
            "image/png": "[encoded data removed]"
          },
          "metadata": {}
        }
      ],
      "source": [
        "apriori(rdd_r3,s, skill_to_index)"
      ]
    }
  ],
  "metadata": {
    "colab": {
      "provenance": []
    },
    "kernelspec": {
      "display_name": "Python 3",
      "name": "python3"
    },
    "language_info": {
      "name": "python"
    }
  },
  "nbformat": 4,
  "nbformat_minor": 0
}